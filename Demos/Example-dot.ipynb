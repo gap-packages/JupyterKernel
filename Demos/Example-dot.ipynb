{
 "cells": [
  {
   "cell_type": "markdown",
   "metadata": {},
   "source": [
    "# Example usign dot splash\n",
    "\n",
    "Hopefully this function will be part of a release of [numericalsgps](https://gap-packages.github.io/numericalsgps/), or not...  It translates a relation to a graph in [dot](http://www.graphviz.org/content/dot-language) language."
   ]
  },
  {
   "cell_type": "code",
   "execution_count": 1,
   "metadata": {},
   "outputs": [
    {
     "data": {
      "text/plain": [
       "function( uni, rel, labels ) ... end"
      ]
     },
     "execution_count": 1,
     "metadata": {},
     "output_type": "execute_result"
    }
   ],
   "source": [
    "RelToDotNS:=function(uni, rel,labels)\n",
    "\n",
    "  local r, output, out, i, str;\n",
    "\n",
    "  str:=function(s)\n",
    "    return Concatenation(\"\\\"\",String(s),\"\\\"\");\n",
    "  end;\n",
    "\n",
    "  out:=\"\";\n",
    "  output:=OutputTextString(out,true);\n",
    "  AppendTo(output,\"graph  NSGraph{\");\n",
    "  for i in [1..Length(uni)] do\n",
    "    AppendTo(output,i,\" [label=\",str(labels[i]),\"];\");\n",
    "  od;\n",
    "  for r in rel do\n",
    "    AppendTo(output,Position(uni,r[1]),\" -- \",Position(uni,r[2]),\";\");\n",
    "  od;\n",
    "  AppendTo(output,\"}\");\n",
    "  CloseStream(output);\n",
    "  return out;\n",
    "end;"
   ]
  },
  {
   "cell_type": "markdown",
   "metadata": {},
   "source": [
    "We do not want to draw all relations, so we purge reflexivity and transitiveness."
   ]
  },
  {
   "cell_type": "code",
   "execution_count": 2,
   "metadata": {},
   "outputs": [
    {
     "data": {
      "text/plain": [
       "function( dom, rel ) ... end"
      ]
     },
     "execution_count": 2,
     "metadata": {},
     "output_type": "execute_result"
    }
   ],
   "source": [
    "hasse:=function(dom,rel)\n",
    "    local out;\n",
    "    \n",
    "    out:=Filtered(rel, p-> p[1]=p[2] or ForAny(Difference(dom,p), x->([p[1],x] in rel) and ([x,p[2]] in rel)));\n",
    "    \n",
    "    return Difference(rel,out);\n",
    "end;"
   ]
  },
  {
   "cell_type": "markdown",
   "metadata": {},
   "source": [
    "## A first example: lattice of vector subspaces\n",
    "\n",
    "Let us draw the lattice of vector subspaces of $\\mathbb{Z}_5^2$."
   ]
  },
  {
   "cell_type": "markdown",
   "metadata": {},
   "source": [
    "First, we compute the set of subspaces of $\\mathbb{Z}_5^2$."
   ]
  },
  {
   "cell_type": "code",
   "execution_count": 3,
   "metadata": {},
   "outputs": [
    {
     "data": {
      "text/plain": [
       "<object>"
      ]
     },
     "execution_count": 3,
     "metadata": {},
     "output_type": "execute_result"
    }
   ],
   "source": [
    "sz:= Subspaces(GF(5)^2);"
   ]
  },
  {
   "cell_type": "code",
   "execution_count": 4,
   "metadata": {},
   "outputs": [
    {
     "data": {
      "text/plain": [
       "[ <object>, <object>, <object>, <object>, <object>, <object>, <object>, <object> ]"
      ]
     },
     "execution_count": 4,
     "metadata": {},
     "output_type": "execute_result"
    }
   ],
   "source": [
    "un:=List(sz);"
   ]
  },
  {
   "cell_type": "code",
   "execution_count": 5,
   "metadata": {},
   "outputs": [
    {
     "data": {
      "text/plain": [
       "[ [ <object>, <object> ], [ <object>, <object> ], [ <object>, <object> ], [ <object>, <object> ], [ <object>, <object> ], [ <object>, <object> ], [ <object>, <object> ], [ <object>, <object> ], [ <object>, <object> ], [ <object>, <object> ], [ <object>, <object> ], [ <object>, <object> ], [ <object>, <object> ], [ <object>, <object> ], [ <object>, <object> ], [ <object>, <object> ], [ <object>, <object> ], [ <object>, <object> ], [ <object>, <object> ], [ <object>, <object> ], [ <object>, <object> ] ]"
      ]
     },
     "execution_count": 5,
     "metadata": {},
     "output_type": "execute_result"
    }
   ],
   "source": [
    "rels:=Filtered(Cartesian(un,un),p->IsSubspace(p[1],p[2]));"
   ]
  },
  {
   "cell_type": "code",
   "execution_count": 6,
   "metadata": {},
   "outputs": [
    {
     "data": {
      "text/plain": [
       "[ [ <object>, <object> ], [ <object>, <object> ], [ <object>, <object> ], [ <object>, <object> ], [ <object>, <object> ], [ <object>, <object> ], [ <object>, <object> ], [ <object>, <object> ], [ <object>, <object> ], [ <object>, <object> ], [ <object>, <object> ], [ <object>, <object> ] ]"
      ]
     },
     "execution_count": 6,
     "metadata": {},
     "output_type": "execute_result"
    }
   ],
   "source": [
    "h:=hasse(un,rels);"
   ]
  },
  {
   "cell_type": "code",
   "execution_count": 7,
   "metadata": {
    "scrolled": true
   },
   "outputs": [
    {
     "data": {
      "text/plain": [
       "[ [  ], [ [ 1, 0 ] ], [ [ 1, 1 ] ], [ [ 1, 2 ] ], [ [ 1, 4 ] ], [ [ 1, 3 ] ], [ [ 0, 1 ] ], [ [ 1, 0 ], [ 0, 1 ] ] ]"
      ]
     },
     "execution_count": 7,
     "metadata": {},
     "output_type": "execute_result"
    }
   ],
   "source": [
    "lab:=List(sz,w->List(Basis(w),x->List(x,Int)));"
   ]
  },
  {
   "cell_type": "markdown",
   "metadata": {},
   "source": [
    "And then the picture."
   ]
  },
  {
   "cell_type": "code",
   "execution_count": 8,
   "metadata": {
    "scrolled": true
   },
   "outputs": [
    {
     "data": {
      "image/svg+xml": [
       "<?xml version=\"1.0\" encoding=\"UTF-8\" standalone=\"no\"?>\n",
       "<!DOCTYPE svg PUBLIC \"-//W3C//DTD SVG 1.1//EN\"\n",
       " \"http://www.w3.org/Graphics/SVG/1.1/DTD/svg11.dtd\">\n",
       "<!-- Generated by graphviz version 2.40.1 (20161225.0304)\n",
       " -->\n",
       "<!-- Title: NSGraph Pages: 1 -->\n",
       "<svg width=\"626pt\" height=\"188pt\"\n",
       " viewBox=\"0.00 0.00 625.99 188.00\" xmlns=\"http://www.w3.org/2000/svg\" xmlns:xlink=\"http://www.w3.org/1999/xlink\">\n",
       "<g id=\"graph0\" class=\"graph\" transform=\"scale(1 1) rotate(0) translate(4 184)\">\n",
       "<title>NSGraph</title>\n",
       "<polygon fill=\"#ffffff\" stroke=\"transparent\" points=\"-4,4 -4,-184 621.9905,-184 621.9905,4 -4,4\"/>\n",
       "<!-- 1 -->\n",
       "<g id=\"node1\" class=\"node\">\n",
       "<title>1</title>\n",
       "<ellipse fill=\"none\" stroke=\"#000000\" cx=\"308.9953\" cy=\"-18\" rx=\"27\" ry=\"18\"/>\n",
       "<text text-anchor=\"middle\" x=\"308.9953\" y=\"-13.8\" font-family=\"Times,serif\" font-size=\"14.00\" fill=\"#000000\">[ ]</text>\n",
       "</g>\n",
       "<!-- 2 -->\n",
       "<g id=\"node2\" class=\"node\">\n",
       "<title>2</title>\n",
       "<ellipse fill=\"none\" stroke=\"#000000\" cx=\"43.9953\" cy=\"-90\" rx=\"43.9905\" ry=\"18\"/>\n",
       "<text text-anchor=\"middle\" x=\"43.9953\" y=\"-85.8\" font-family=\"Times,serif\" font-size=\"14.00\" fill=\"#000000\">[ [ 1, 0 ] ]</text>\n",
       "</g>\n",
       "<!-- 2&#45;&#45;1 -->\n",
       "<g id=\"edge2\" class=\"edge\">\n",
       "<title>2&#45;&#45;1</title>\n",
       "<path fill=\"none\" stroke=\"#000000\" d=\"M77.5138,-78.1762C83.9512,-76.0305 90.6602,-73.8795 96.9953,-72 163.6294,-52.2311 243.3299,-33.1315 283.3658,-23.8462\"/>\n",
       "</g>\n",
       "<!-- 3 -->\n",
       "<g id=\"node3\" class=\"node\">\n",
       "<title>3</title>\n",
       "<ellipse fill=\"none\" stroke=\"#000000\" cx=\"149.9953\" cy=\"-90\" rx=\"43.9905\" ry=\"18\"/>\n",
       "<text text-anchor=\"middle\" x=\"149.9953\" y=\"-85.8\" font-family=\"Times,serif\" font-size=\"14.00\" fill=\"#000000\">[ [ 1, 1 ] ]</text>\n",
       "</g>\n",
       "<!-- 3&#45;&#45;1 -->\n",
       "<g id=\"edge3\" class=\"edge\">\n",
       "<title>3&#45;&#45;1</title>\n",
       "<path fill=\"none\" stroke=\"#000000\" d=\"M179.5293,-76.6261C210.4232,-62.6364 258.2464,-40.9806 286.3042,-28.2752\"/>\n",
       "</g>\n",
       "<!-- 4 -->\n",
       "<g id=\"node4\" class=\"node\">\n",
       "<title>4</title>\n",
       "<ellipse fill=\"none\" stroke=\"#000000\" cx=\"255.9953\" cy=\"-90\" rx=\"43.9905\" ry=\"18\"/>\n",
       "<text text-anchor=\"middle\" x=\"255.9953\" y=\"-85.8\" font-family=\"Times,serif\" font-size=\"14.00\" fill=\"#000000\">[ [ 1, 2 ] ]</text>\n",
       "</g>\n",
       "<!-- 4&#45;&#45;1 -->\n",
       "<g id=\"edge4\" class=\"edge\">\n",
       "<title>4&#45;&#45;1</title>\n",
       "<path fill=\"none\" stroke=\"#000000\" d=\"M268.8251,-72.5708C277.4031,-60.9177 288.6127,-45.6895 297.0101,-34.2817\"/>\n",
       "</g>\n",
       "<!-- 5 -->\n",
       "<g id=\"node5\" class=\"node\">\n",
       "<title>5</title>\n",
       "<ellipse fill=\"none\" stroke=\"#000000\" cx=\"361.9953\" cy=\"-90\" rx=\"43.9905\" ry=\"18\"/>\n",
       "<text text-anchor=\"middle\" x=\"361.9953\" y=\"-85.8\" font-family=\"Times,serif\" font-size=\"14.00\" fill=\"#000000\">[ [ 1, 4 ] ]</text>\n",
       "</g>\n",
       "<!-- 5&#45;&#45;1 -->\n",
       "<g id=\"edge5\" class=\"edge\">\n",
       "<title>5&#45;&#45;1</title>\n",
       "<path fill=\"none\" stroke=\"#000000\" d=\"M349.1654,-72.5708C340.5874,-60.9177 329.3778,-45.6895 320.9804,-34.2817\"/>\n",
       "</g>\n",
       "<!-- 6 -->\n",
       "<g id=\"node6\" class=\"node\">\n",
       "<title>6</title>\n",
       "<ellipse fill=\"none\" stroke=\"#000000\" cx=\"467.9953\" cy=\"-90\" rx=\"43.9905\" ry=\"18\"/>\n",
       "<text text-anchor=\"middle\" x=\"467.9953\" y=\"-85.8\" font-family=\"Times,serif\" font-size=\"14.00\" fill=\"#000000\">[ [ 1, 3 ] ]</text>\n",
       "</g>\n",
       "<!-- 6&#45;&#45;1 -->\n",
       "<g id=\"edge6\" class=\"edge\">\n",
       "<title>6&#45;&#45;1</title>\n",
       "<path fill=\"none\" stroke=\"#000000\" d=\"M438.4612,-76.6261C407.5673,-62.6364 359.7441,-40.9806 331.6863,-28.2752\"/>\n",
       "</g>\n",
       "<!-- 7 -->\n",
       "<g id=\"node7\" class=\"node\">\n",
       "<title>7</title>\n",
       "<ellipse fill=\"none\" stroke=\"#000000\" cx=\"573.9953\" cy=\"-90\" rx=\"43.9905\" ry=\"18\"/>\n",
       "<text text-anchor=\"middle\" x=\"573.9953\" y=\"-85.8\" font-family=\"Times,serif\" font-size=\"14.00\" fill=\"#000000\">[ [ 0, 1 ] ]</text>\n",
       "</g>\n",
       "<!-- 7&#45;&#45;1 -->\n",
       "<g id=\"edge1\" class=\"edge\">\n",
       "<title>7&#45;&#45;1</title>\n",
       "<path fill=\"none\" stroke=\"#000000\" d=\"M540.4767,-78.1762C534.0393,-76.0305 527.3303,-73.8795 520.9953,-72 454.3611,-52.2311 374.6606,-33.1315 334.6247,-23.8462\"/>\n",
       "</g>\n",
       "<!-- 8 -->\n",
       "<g id=\"node8\" class=\"node\">\n",
       "<title>8</title>\n",
       "<ellipse fill=\"none\" stroke=\"#000000\" cx=\"308.9953\" cy=\"-162\" rx=\"71.9876\" ry=\"18\"/>\n",
       "<text text-anchor=\"middle\" x=\"308.9953\" y=\"-157.8\" font-family=\"Times,serif\" font-size=\"14.00\" fill=\"#000000\">[ [ 1, 0 ], [ 0, 1 ] ]</text>\n",
       "</g>\n",
       "<!-- 8&#45;&#45;2 -->\n",
       "<g id=\"edge8\" class=\"edge\">\n",
       "<title>8&#45;&#45;2</title>\n",
       "<path fill=\"none\" stroke=\"#000000\" d=\"M255.9732,-149.7089C212.8996,-139.4331 150.7031,-123.934 96.9953,-108 90.6602,-106.1205 83.9512,-103.9695 77.5138,-101.8238\"/>\n",
       "</g>\n",
       "<!-- 8&#45;&#45;3 -->\n",
       "<g id=\"edge9\" class=\"edge\">\n",
       "<title>8&#45;&#45;3</title>\n",
       "<path fill=\"none\" stroke=\"#000000\" d=\"M274.102,-146.1993C245.8549,-133.4082 206.4994,-115.5868 179.7322,-103.4658\"/>\n",
       "</g>\n",
       "<!-- 8&#45;&#45;4 -->\n",
       "<g id=\"edge10\" class=\"edge\">\n",
       "<title>8&#45;&#45;4</title>\n",
       "<path fill=\"none\" stroke=\"#000000\" d=\"M295.8941,-144.2022C287.6176,-132.9586 276.9747,-118.5003 268.7628,-107.3446\"/>\n",
       "</g>\n",
       "<!-- 8&#45;&#45;5 -->\n",
       "<g id=\"edge11\" class=\"edge\">\n",
       "<title>8&#45;&#45;5</title>\n",
       "<path fill=\"none\" stroke=\"#000000\" d=\"M322.0964,-144.2022C330.3729,-132.9586 341.0159,-118.5003 349.2277,-107.3446\"/>\n",
       "</g>\n",
       "<!-- 8&#45;&#45;6 -->\n",
       "<g id=\"edge12\" class=\"edge\">\n",
       "<title>8&#45;&#45;6</title>\n",
       "<path fill=\"none\" stroke=\"#000000\" d=\"M343.8885,-146.1993C372.1356,-133.4082 411.4911,-115.5868 438.2584,-103.4658\"/>\n",
       "</g>\n",
       "<!-- 8&#45;&#45;7 -->\n",
       "<g id=\"edge7\" class=\"edge\">\n",
       "<title>8&#45;&#45;7</title>\n",
       "<path fill=\"none\" stroke=\"#000000\" d=\"M362.0173,-149.7089C405.091,-139.4331 467.2874,-123.934 520.9953,-108 527.3303,-106.1205 534.0393,-103.9695 540.4767,-101.8238\"/>\n",
       "</g>\n",
       "</g>\n",
       "</svg>\n"
      ]
     },
     "execution_count": 8,
     "metadata": {},
     "output_type": "execute_result"
    }
   ],
   "source": [
    "JUPYTER_DotSplash(RelToDotNS(un,h,lab));"
   ]
  },
  {
   "cell_type": "markdown",
   "metadata": {},
   "source": [
    "## Lattice of divisors of an integer\n",
    "\n",
    "Yet another example with positive divisors of an integer."
   ]
  },
  {
   "cell_type": "code",
   "execution_count": 9,
   "metadata": {},
   "outputs": [
    {
     "data": {
      "text/plain": [
       "[ 1, 2, 3, 4, 5, 6, 10, 12, 15, 20, 30, 60 ]"
      ]
     },
     "execution_count": 9,
     "metadata": {},
     "output_type": "execute_result"
    }
   ],
   "source": [
    "un:=DivisorsInt(60);"
   ]
  },
  {
   "cell_type": "code",
   "execution_count": 10,
   "metadata": {},
   "outputs": [
    {
     "data": {
      "text/plain": [
       "[ [ 1, 1 ], [ 1, 2 ], [ 1, 3 ], [ 1, 4 ], [ 1, 5 ], [ 1, 6 ], [ 1, 10 ], [ 1, 12 ], [ 1, 15 ], [ 1, 20 ], [ 1, 30 ], [ 1, 60 ], [ 2, 2 ], [ 2, 4 ], [ 2, 6 ], [ 2, 10 ], [ 2, 12 ], [ 2, 20 ], [ 2, 30 ], [ 2, 60 ], [ 3, 3 ], [ 3, 6 ], [ 3, 12 ], [ 3, 15 ], [ 3, 30 ], [ 3, 60 ], [ 4, 4 ], [ 4, 12 ], [ 4, 20 ], [ 4, 60 ], [ 5, 5 ], [ 5, 10 ], [ 5, 15 ], [ 5, 20 ], [ 5, 30 ], [ 5, 60 ], [ 6, 6 ], [ 6, 12 ], [ 6, 30 ], [ 6, 60 ], [ 10, 10 ], [ 10, 20 ], [ 10, 30 ], [ 10, 60 ], [ 12, 12 ], [ 12, 60 ], [ 15, 15 ], [ 15, 30 ], [ 15, 60 ], [ 20, 20 ], [ 20, 60 ], [ 30, 30 ], [ 30, 60 ], [ 60, 60 ] ]"
      ]
     },
     "execution_count": 10,
     "metadata": {},
     "output_type": "execute_result"
    }
   ],
   "source": [
    "rels:=Filtered(Cartesian(un,un),p->p[2] mod p[1]=0);"
   ]
  },
  {
   "cell_type": "code",
   "execution_count": 11,
   "metadata": {},
   "outputs": [
    {
     "data": {
      "text/plain": [
       "[ [ 1, 2 ], [ 1, 3 ], [ 1, 5 ], [ 2, 4 ], [ 2, 6 ], [ 2, 10 ], [ 3, 6 ], [ 3, 15 ], [ 4, 12 ], [ 4, 20 ], [ 5, 10 ], [ 5, 15 ], [ 6, 12 ], [ 6, 30 ], [ 10, 20 ], [ 10, 30 ], [ 12, 60 ], [ 15, 30 ], [ 20, 60 ], [ 30, 60 ] ]"
      ]
     },
     "execution_count": 11,
     "metadata": {},
     "output_type": "execute_result"
    }
   ],
   "source": [
    "h:=hasse(un,rels);"
   ]
  },
  {
   "cell_type": "code",
   "execution_count": 12,
   "metadata": {},
   "outputs": [
    {
     "data": {
      "image/svg+xml": [
       "<?xml version=\"1.0\" encoding=\"UTF-8\" standalone=\"no\"?>\n",
       "<!DOCTYPE svg PUBLIC \"-//W3C//DTD SVG 1.1//EN\"\n",
       " \"http://www.w3.org/Graphics/SVG/1.1/DTD/svg11.dtd\">\n",
       "<!-- Generated by graphviz version 2.40.1 (20161225.0304)\n",
       " -->\n",
       "<!-- Title: NSGraph Pages: 1 -->\n",
       "<svg width=\"278pt\" height=\"332pt\"\n",
       " viewBox=\"0.00 0.00 278.00 332.00\" xmlns=\"http://www.w3.org/2000/svg\" xmlns:xlink=\"http://www.w3.org/1999/xlink\">\n",
       "<g id=\"graph0\" class=\"graph\" transform=\"scale(1 1) rotate(0) translate(4 328)\">\n",
       "<title>NSGraph</title>\n",
       "<polygon fill=\"#ffffff\" stroke=\"transparent\" points=\"-4,4 -4,-328 274,-328 274,4 -4,4\"/>\n",
       "<!-- 1 -->\n",
       "<g id=\"node1\" class=\"node\">\n",
       "<title>1</title>\n",
       "<ellipse fill=\"none\" stroke=\"#000000\" cx=\"171\" cy=\"-306\" rx=\"27\" ry=\"18\"/>\n",
       "<text text-anchor=\"middle\" x=\"171\" y=\"-301.8\" font-family=\"Times,serif\" font-size=\"14.00\" fill=\"#000000\">1</text>\n",
       "</g>\n",
       "<!-- 2 -->\n",
       "<g id=\"node2\" class=\"node\">\n",
       "<title>2</title>\n",
       "<ellipse fill=\"none\" stroke=\"#000000\" cx=\"99\" cy=\"-234\" rx=\"27\" ry=\"18\"/>\n",
       "<text text-anchor=\"middle\" x=\"99\" y=\"-229.8\" font-family=\"Times,serif\" font-size=\"14.00\" fill=\"#000000\">2</text>\n",
       "</g>\n",
       "<!-- 1&#45;&#45;2 -->\n",
       "<g id=\"edge1\" class=\"edge\">\n",
       "<title>1&#45;&#45;2</title>\n",
       "<path fill=\"none\" stroke=\"#000000\" d=\"M155.7307,-290.7307C143.512,-278.512 126.4602,-261.4602 114.2473,-249.2473\"/>\n",
       "</g>\n",
       "<!-- 3 -->\n",
       "<g id=\"node3\" class=\"node\">\n",
       "<title>3</title>\n",
       "<ellipse fill=\"none\" stroke=\"#000000\" cx=\"171\" cy=\"-234\" rx=\"27\" ry=\"18\"/>\n",
       "<text text-anchor=\"middle\" x=\"171\" y=\"-229.8\" font-family=\"Times,serif\" font-size=\"14.00\" fill=\"#000000\">3</text>\n",
       "</g>\n",
       "<!-- 1&#45;&#45;3 -->\n",
       "<g id=\"edge2\" class=\"edge\">\n",
       "<title>1&#45;&#45;3</title>\n",
       "<path fill=\"none\" stroke=\"#000000\" d=\"M171,-287.8314C171,-277 171,-263.2876 171,-252.4133\"/>\n",
       "</g>\n",
       "<!-- 5 -->\n",
       "<g id=\"node5\" class=\"node\">\n",
       "<title>5</title>\n",
       "<ellipse fill=\"none\" stroke=\"#000000\" cx=\"243\" cy=\"-234\" rx=\"27\" ry=\"18\"/>\n",
       "<text text-anchor=\"middle\" x=\"243\" y=\"-229.8\" font-family=\"Times,serif\" font-size=\"14.00\" fill=\"#000000\">5</text>\n",
       "</g>\n",
       "<!-- 1&#45;&#45;5 -->\n",
       "<g id=\"edge3\" class=\"edge\">\n",
       "<title>1&#45;&#45;5</title>\n",
       "<path fill=\"none\" stroke=\"#000000\" d=\"M186.2693,-290.7307C198.488,-278.512 215.5398,-261.4602 227.7527,-249.2473\"/>\n",
       "</g>\n",
       "<!-- 4 -->\n",
       "<g id=\"node4\" class=\"node\">\n",
       "<title>4</title>\n",
       "<ellipse fill=\"none\" stroke=\"#000000\" cx=\"27\" cy=\"-162\" rx=\"27\" ry=\"18\"/>\n",
       "<text text-anchor=\"middle\" x=\"27\" y=\"-157.8\" font-family=\"Times,serif\" font-size=\"14.00\" fill=\"#000000\">4</text>\n",
       "</g>\n",
       "<!-- 2&#45;&#45;4 -->\n",
       "<g id=\"edge4\" class=\"edge\">\n",
       "<title>2&#45;&#45;4</title>\n",
       "<path fill=\"none\" stroke=\"#000000\" d=\"M83.7307,-218.7307C71.512,-206.512 54.4602,-189.4602 42.2473,-177.2473\"/>\n",
       "</g>\n",
       "<!-- 6 -->\n",
       "<g id=\"node6\" class=\"node\">\n",
       "<title>6</title>\n",
       "<ellipse fill=\"none\" stroke=\"#000000\" cx=\"99\" cy=\"-162\" rx=\"27\" ry=\"18\"/>\n",
       "<text text-anchor=\"middle\" x=\"99\" y=\"-157.8\" font-family=\"Times,serif\" font-size=\"14.00\" fill=\"#000000\">6</text>\n",
       "</g>\n",
       "<!-- 2&#45;&#45;6 -->\n",
       "<g id=\"edge5\" class=\"edge\">\n",
       "<title>2&#45;&#45;6</title>\n",
       "<path fill=\"none\" stroke=\"#000000\" d=\"M99,-215.8314C99,-205 99,-191.2876 99,-180.4133\"/>\n",
       "</g>\n",
       "<!-- 7 -->\n",
       "<g id=\"node7\" class=\"node\">\n",
       "<title>7</title>\n",
       "<ellipse fill=\"none\" stroke=\"#000000\" cx=\"171\" cy=\"-162\" rx=\"27\" ry=\"18\"/>\n",
       "<text text-anchor=\"middle\" x=\"171\" y=\"-157.8\" font-family=\"Times,serif\" font-size=\"14.00\" fill=\"#000000\">10</text>\n",
       "</g>\n",
       "<!-- 2&#45;&#45;7 -->\n",
       "<g id=\"edge6\" class=\"edge\">\n",
       "<title>2&#45;&#45;7</title>\n",
       "<path fill=\"none\" stroke=\"#000000\" d=\"M114.2693,-218.7307C126.488,-206.512 143.5398,-189.4602 155.7527,-177.2473\"/>\n",
       "</g>\n",
       "<!-- 3&#45;&#45;6 -->\n",
       "<g id=\"edge7\" class=\"edge\">\n",
       "<title>3&#45;&#45;6</title>\n",
       "<path fill=\"none\" stroke=\"#000000\" d=\"M155.7307,-218.7307C143.512,-206.512 126.4602,-189.4602 114.2473,-177.2473\"/>\n",
       "</g>\n",
       "<!-- 9 -->\n",
       "<g id=\"node9\" class=\"node\">\n",
       "<title>9</title>\n",
       "<ellipse fill=\"none\" stroke=\"#000000\" cx=\"243\" cy=\"-162\" rx=\"27\" ry=\"18\"/>\n",
       "<text text-anchor=\"middle\" x=\"243\" y=\"-157.8\" font-family=\"Times,serif\" font-size=\"14.00\" fill=\"#000000\">15</text>\n",
       "</g>\n",
       "<!-- 3&#45;&#45;9 -->\n",
       "<g id=\"edge8\" class=\"edge\">\n",
       "<title>3&#45;&#45;9</title>\n",
       "<path fill=\"none\" stroke=\"#000000\" d=\"M186.2693,-218.7307C198.488,-206.512 215.5398,-189.4602 227.7527,-177.2473\"/>\n",
       "</g>\n",
       "<!-- 8 -->\n",
       "<g id=\"node8\" class=\"node\">\n",
       "<title>8</title>\n",
       "<ellipse fill=\"none\" stroke=\"#000000\" cx=\"27\" cy=\"-90\" rx=\"27\" ry=\"18\"/>\n",
       "<text text-anchor=\"middle\" x=\"27\" y=\"-85.8\" font-family=\"Times,serif\" font-size=\"14.00\" fill=\"#000000\">12</text>\n",
       "</g>\n",
       "<!-- 4&#45;&#45;8 -->\n",
       "<g id=\"edge9\" class=\"edge\">\n",
       "<title>4&#45;&#45;8</title>\n",
       "<path fill=\"none\" stroke=\"#000000\" d=\"M27,-143.8314C27,-133 27,-119.2876 27,-108.4133\"/>\n",
       "</g>\n",
       "<!-- 10 -->\n",
       "<g id=\"node10\" class=\"node\">\n",
       "<title>10</title>\n",
       "<ellipse fill=\"none\" stroke=\"#000000\" cx=\"99\" cy=\"-90\" rx=\"27\" ry=\"18\"/>\n",
       "<text text-anchor=\"middle\" x=\"99\" y=\"-85.8\" font-family=\"Times,serif\" font-size=\"14.00\" fill=\"#000000\">20</text>\n",
       "</g>\n",
       "<!-- 4&#45;&#45;10 -->\n",
       "<g id=\"edge10\" class=\"edge\">\n",
       "<title>4&#45;&#45;10</title>\n",
       "<path fill=\"none\" stroke=\"#000000\" d=\"M42.2693,-146.7307C54.488,-134.512 71.5398,-117.4602 83.7527,-105.2473\"/>\n",
       "</g>\n",
       "<!-- 5&#45;&#45;7 -->\n",
       "<g id=\"edge11\" class=\"edge\">\n",
       "<title>5&#45;&#45;7</title>\n",
       "<path fill=\"none\" stroke=\"#000000\" d=\"M227.7307,-218.7307C215.512,-206.512 198.4602,-189.4602 186.2473,-177.2473\"/>\n",
       "</g>\n",
       "<!-- 5&#45;&#45;9 -->\n",
       "<g id=\"edge12\" class=\"edge\">\n",
       "<title>5&#45;&#45;9</title>\n",
       "<path fill=\"none\" stroke=\"#000000\" d=\"M243,-215.8314C243,-205 243,-191.2876 243,-180.4133\"/>\n",
       "</g>\n",
       "<!-- 6&#45;&#45;8 -->\n",
       "<g id=\"edge13\" class=\"edge\">\n",
       "<title>6&#45;&#45;8</title>\n",
       "<path fill=\"none\" stroke=\"#000000\" d=\"M83.7307,-146.7307C71.512,-134.512 54.4602,-117.4602 42.2473,-105.2473\"/>\n",
       "</g>\n",
       "<!-- 11 -->\n",
       "<g id=\"node11\" class=\"node\">\n",
       "<title>11</title>\n",
       "<ellipse fill=\"none\" stroke=\"#000000\" cx=\"171\" cy=\"-90\" rx=\"27\" ry=\"18\"/>\n",
       "<text text-anchor=\"middle\" x=\"171\" y=\"-85.8\" font-family=\"Times,serif\" font-size=\"14.00\" fill=\"#000000\">30</text>\n",
       "</g>\n",
       "<!-- 6&#45;&#45;11 -->\n",
       "<g id=\"edge14\" class=\"edge\">\n",
       "<title>6&#45;&#45;11</title>\n",
       "<path fill=\"none\" stroke=\"#000000\" d=\"M114.2693,-146.7307C126.488,-134.512 143.5398,-117.4602 155.7527,-105.2473\"/>\n",
       "</g>\n",
       "<!-- 7&#45;&#45;10 -->\n",
       "<g id=\"edge15\" class=\"edge\">\n",
       "<title>7&#45;&#45;10</title>\n",
       "<path fill=\"none\" stroke=\"#000000\" d=\"M155.7307,-146.7307C143.512,-134.512 126.4602,-117.4602 114.2473,-105.2473\"/>\n",
       "</g>\n",
       "<!-- 7&#45;&#45;11 -->\n",
       "<g id=\"edge16\" class=\"edge\">\n",
       "<title>7&#45;&#45;11</title>\n",
       "<path fill=\"none\" stroke=\"#000000\" d=\"M171,-143.8314C171,-133 171,-119.2876 171,-108.4133\"/>\n",
       "</g>\n",
       "<!-- 12 -->\n",
       "<g id=\"node12\" class=\"node\">\n",
       "<title>12</title>\n",
       "<ellipse fill=\"none\" stroke=\"#000000\" cx=\"99\" cy=\"-18\" rx=\"27\" ry=\"18\"/>\n",
       "<text text-anchor=\"middle\" x=\"99\" y=\"-13.8\" font-family=\"Times,serif\" font-size=\"14.00\" fill=\"#000000\">60</text>\n",
       "</g>\n",
       "<!-- 8&#45;&#45;12 -->\n",
       "<g id=\"edge17\" class=\"edge\">\n",
       "<title>8&#45;&#45;12</title>\n",
       "<path fill=\"none\" stroke=\"#000000\" d=\"M42.2693,-74.7307C54.488,-62.512 71.5398,-45.4602 83.7527,-33.2473\"/>\n",
       "</g>\n",
       "<!-- 9&#45;&#45;11 -->\n",
       "<g id=\"edge18\" class=\"edge\">\n",
       "<title>9&#45;&#45;11</title>\n",
       "<path fill=\"none\" stroke=\"#000000\" d=\"M227.7307,-146.7307C215.512,-134.512 198.4602,-117.4602 186.2473,-105.2473\"/>\n",
       "</g>\n",
       "<!-- 10&#45;&#45;12 -->\n",
       "<g id=\"edge19\" class=\"edge\">\n",
       "<title>10&#45;&#45;12</title>\n",
       "<path fill=\"none\" stroke=\"#000000\" d=\"M99,-71.8314C99,-61 99,-47.2876 99,-36.4133\"/>\n",
       "</g>\n",
       "<!-- 11&#45;&#45;12 -->\n",
       "<g id=\"edge20\" class=\"edge\">\n",
       "<title>11&#45;&#45;12</title>\n",
       "<path fill=\"none\" stroke=\"#000000\" d=\"M155.7307,-74.7307C143.512,-62.512 126.4602,-45.4602 114.2473,-33.2473\"/>\n",
       "</g>\n",
       "</g>\n",
       "</svg>\n"
      ]
     },
     "execution_count": 12,
     "metadata": {},
     "output_type": "execute_result"
    }
   ],
   "source": [
    "JUPYTER_DotSplash(RelToDotNS(un,h,un));"
   ]
  }
 ],
 "metadata": {
  "kernelspec": {
   "display_name": "GAP 4 (native)",
   "language": "gap",
   "name": "gap-native"
  },
  "language_info": {
   "codemirror_mode": "gap",
   "file_extension": ".g",
   "mimetype": "text/x-gap",
   "name": "GAP (native)",
   "nbconvert_exporter": "",
   "pygments_lexer": "gap",
   "version": "4.dev"
  }
 },
 "nbformat": 4,
 "nbformat_minor": 2
}
