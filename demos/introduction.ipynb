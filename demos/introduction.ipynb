{
 "cells": [
  {
   "cell_type": "markdown",
   "id": "e3cafe29",
   "metadata": {},
   "source": [
    "# JupyterKernel for GAP\n",
    "JupyterKernel for GAP collates all of the features of the GAP programming language with the interactivity of Jupyter notebooks. to demonstrate this functionality, a small set of demonstration notebooks have been prepared to provide users with a brief overview of the functionality that can be accessed using JupyterKernel"
   ]
  },
  {
   "cell_type": "markdown",
   "id": "3885abab",
   "metadata": {},
   "source": [
    "### Constants and Operators\n",
    "GAP supports 3 kinds of operators: arithmetical, comparison and logical. The operators can be composed on constant integers to result in new values.\n",
    "\n",
    "#### Arithmetic Operators\n",
    "For example, two integers may be divided by one another:"
   ]
  },
  {
   "cell_type": "code",
   "execution_count": 5,
   "id": "f0d3327f",
   "metadata": {},
   "outputs": [
    {
     "data": {
      "text/plain": [
       "2469/5"
      ]
     },
     "execution_count": 5,
     "metadata": {
      "text/plain": ""
     },
     "output_type": "execute_result"
    }
   ],
   "source": [
    "12345/25;"
   ]
  },
  {
   "cell_type": "markdown",
   "id": "4c1b7eee",
   "metadata": {},
   "source": [
    "Negative numbers can also be expressed in GAP:"
   ]
  },
  {
   "cell_type": "code",
   "execution_count": 7,
   "id": "ca616dda",
   "metadata": {},
   "outputs": [
    {
     "data": {
      "text/plain": [
       "-3"
      ]
     },
     "execution_count": 6,
     "metadata": {
      "text/plain": ""
     },
     "output_type": "execute_result"
    },
    {
     "data": {
      "text/plain": [
       "-11"
      ]
     },
     "execution_count": 7,
     "metadata": {
      "text/plain": ""
     },
     "output_type": "execute_result"
    }
   ],
   "source": [
    "-3; -6 + -5;"
   ]
  },
  {
   "cell_type": "markdown",
   "id": "9b20b9c2",
   "metadata": {},
   "source": [
    "Exponentiation in GAP is provided via the ^ operator. While this does typically lead to large numbers, GAP can handle incredibly large sizes:"
   ]
  },
  {
   "cell_type": "code",
   "execution_count": 8,
   "id": "5ab83fdb",
   "metadata": {},
   "outputs": [
    {
     "data": {
      "text/plain": [
       "5444517870735015415413993718908291383296"
      ]
     },
     "execution_count": 8,
     "metadata": {
      "text/plain": ""
     },
     "output_type": "execute_result"
    }
   ],
   "source": [
    "2^132;"
   ]
  },
  {
   "cell_type": "markdown",
   "id": "336b3ff9",
   "metadata": {},
   "source": [
    "The mod operator allows you to calculate one value modulo another:"
   ]
  },
  {
   "cell_type": "code",
   "execution_count": 9,
   "id": "f683066c",
   "metadata": {},
   "outputs": [
    {
     "data": {
      "text/plain": [
       "1"
      ]
     },
     "execution_count": 9,
     "metadata": {
      "text/plain": ""
     },
     "output_type": "execute_result"
    }
   ],
   "source": [
    "4 mod 3;"
   ]
  },
  {
   "cell_type": "markdown",
   "id": "5abc82a0",
   "metadata": {},
   "source": [
    "Do note that for the modulo operator, whitespace must surround it on both sides. 4mod3; would be invalid GAP code.\n",
    "\n",
    "#### Comparison Operators\n",
    "Besides arithmetic, comparison operators can also be used in GAP. Each comparison results in a boolean value, which is another kind of constant. The comparison operators implemented in GAP are >, >=, <, <=, and =, and can be used to compare two values:"
   ]
  },
  {
   "cell_type": "code",
   "execution_count": 10,
   "id": "48670db8",
   "metadata": {},
   "outputs": [
    {
     "data": {
      "text/plain": [
       "true"
      ]
     },
     "execution_count": 10,
     "metadata": {
      "text/plain": ""
     },
     "output_type": "execute_result"
    }
   ],
   "source": [
    "7 > 3;"
   ]
  },
  {
   "cell_type": "code",
   "execution_count": 11,
   "id": "42b0fa40",
   "metadata": {},
   "outputs": [
    {
     "data": {
      "text/plain": [
       "true"
      ]
     },
     "execution_count": 11,
     "metadata": {
      "text/plain": ""
     },
     "output_type": "execute_result"
    }
   ],
   "source": [
    "(7 - 7) = (1 + -1);"
   ]
  },
  {
   "cell_type": "markdown",
   "id": "e20a8b7c",
   "metadata": {},
   "source": [
    "#### Logical Operators\n",
    "Finally, logical operators manipulate the boolean values (true and false) as mentioned earlier. For example, the unary operator not and the binary operators and and or:"
   ]
  },
  {
   "cell_type": "code",
   "execution_count": 14,
   "id": "b38896d8",
   "metadata": {},
   "outputs": [
    {
     "data": {
      "text/plain": [
       "false"
      ]
     },
     "execution_count": 12,
     "metadata": {
      "text/plain": ""
     },
     "output_type": "execute_result"
    },
    {
     "data": {
      "text/plain": [
       "false"
      ]
     },
     "execution_count": 13,
     "metadata": {
      "text/plain": ""
     },
     "output_type": "execute_result"
    },
    {
     "data": {
      "text/plain": [
       "false"
      ]
     },
     "execution_count": 14,
     "metadata": {
      "text/plain": ""
     },
     "output_type": "execute_result"
    }
   ],
   "source": [
    "not true; true and false; not true or false;"
   ]
  },
  {
   "cell_type": "markdown",
   "id": "68b324c2",
   "metadata": {},
   "source": [
    "Since the output of comparison operators are boolean values, these can also be manipulated by logical operators:"
   ]
  },
  {
   "cell_type": "code",
   "execution_count": 15,
   "id": "cce660f6",
   "metadata": {},
   "outputs": [
    {
     "data": {
      "text/plain": [
       "true"
      ]
     },
     "execution_count": 15,
     "metadata": {
      "text/plain": ""
     },
     "output_type": "execute_result"
    }
   ],
   "source": [
    "10 < 15 or (5 * 3) < 1;"
   ]
  },
  {
   "cell_type": "markdown",
   "id": "071a5fe6",
   "metadata": {},
   "source": [
    "#### Permutations\n",
    "Permutations are also handled in GAP as constants, and are written in cycle notation. They can be multiplied:"
   ]
  },
  {
   "cell_type": "code",
   "execution_count": 16,
   "id": "4cfd2271",
   "metadata": {},
   "outputs": [
    {
     "data": {
      "text/plain": [
       "(2,3)"
      ]
     },
     "execution_count": 16,
     "metadata": {
      "text/plain": ""
     },
     "output_type": "execute_result"
    }
   ],
   "source": [
    "(1, 2, 3) * (1, 2);"
   ]
  },
  {
   "cell_type": "markdown",
   "id": "ad2e131a",
   "metadata": {},
   "source": [
    "To obtain the inverse of a permutation, the exponent operator can be applied with -1:"
   ]
  },
  {
   "cell_type": "code",
   "execution_count": 17,
   "id": "8bb27e03",
   "metadata": {},
   "outputs": [
    {
     "data": {
      "text/plain": [
       "(1,3,2)"
      ]
     },
     "execution_count": 17,
     "metadata": {
      "text/plain": ""
     },
     "output_type": "execute_result"
    }
   ],
   "source": [
    "(1, 2, 3)^-1;"
   ]
  },
  {
   "cell_type": "markdown",
   "id": "7256eab9",
   "metadata": {},
   "source": [
    "GAP can also handle other various constants, such as the elements of finite fields, and complex roots of unity amongst others. These will be detailed in later notebooks.\n",
    "\n",
    "#### Characters\n",
    "The last type of constants (for now) that can be handled by GAP are characters. In GAP, these are objects that represent arbitrary characters from the character set of the operating system. Character literals can be defined in GAP by enclosing the  character in single quotes:"
   ]
  },
  {
   "cell_type": "code",
   "execution_count": 18,
   "id": "39f6a65a",
   "metadata": {
    "scrolled": true
   },
   "outputs": [
    {
     "data": {
      "text/plain": [
       "false"
      ]
     },
     "execution_count": 18,
     "metadata": {
      "text/plain": ""
     },
     "output_type": "execute_result"
    }
   ],
   "source": [
    "'a';"
   ]
  },
  {
   "cell_type": "markdown",
   "id": "51ba9526",
   "metadata": {},
   "source": [
    "While there aren't any character-specific operators defined in GAP, they can be compared:"
   ]
  },
  {
   "cell_type": "code",
   "execution_count": 1,
   "id": "838d12f2",
   "metadata": {},
   "outputs": [
    {
     "data": {
      "text/plain": [
       "false"
      ]
     },
     "execution_count": 1,
     "metadata": {
      "text/plain": ""
     },
     "output_type": "execute_result"
    }
   ],
   "source": [
    "'a' = 'b';"
   ]
  },
  {
   "cell_type": "markdown",
   "id": "e21400d5",
   "metadata": {},
   "source": [
    "### Documentation and Help\n",
    "In GAP, the content of the manuals can be accessed through cells in the notebook. On starting a GAP session, GAP loads a list of index entries, which are typically all chapter and section headers, the names of documented functions, operations etc, and som other explicit entries defined in the manual.\n",
    "\n",
    "To query these index entries, the following syntax can be used:\n",
    "\n",
    "                                                ?[book:][?]topic"
   ]
  },
  {
   "cell_type": "markdown",
   "id": "e5273292",
   "metadata": {},
   "source": [
    "One of the simpler examples is the simple command `?help` (note that no semicolon is required):"
   ]
  },
  {
   "cell_type": "code",
   "execution_count": 5,
   "id": "08f94e71",
   "metadata": {},
   "outputs": [
    {
     "data": {
      "text/html": [
       "Tutorial: <a target=\"_blank\" href=\"https://www.gap-system.org/Manuals/doc/tut/chap2.html#X7A7EADB77FF38BC9\">Help</a><br/>Reference: <a target=\"_blank\" href=\"https://www.gap-system.org/Manuals/doc/ref/chap84.html#X7CD0B8507A3D231D\">HELP_ADD_BOOK</a><br/>Reference: <a target=\"_blank\" href=\"https://www.gap-system.org/Manuals/doc/ref/chap84.html#X7BDEB25D7AFC4322\">HELP_REMOVE_BOOK</a><br/>Reference: <a target=\"_blank\" href=\"https://www.gap-system.org/Manuals/doc/ref/chap84.html#X84B011847A4D90F0\">HELP_VIEWER_INFO</a><br/>Browse: <a target=\"_blank\" href=\"https://www.gap-system.org/Manuals/pkg/Browse/doc/chap4.html#X869EDB308717F199\">help window for a browse table</a><br/>HeLP (not loaded): <a target=\"_blank\" href=\"https://www.gap-system.org/Manuals/pkg/HeLP-3.5/doc/chap3.html#X80D9773D86873CB2\">HeLP_WithGivenOrderAndPAAndSpecificSystem</a><br/>HeLP (not loaded): <a target=\"_blank\" href=\"https://www.gap-system.org/Manuals/pkg/HeLP-3.5/doc/chap2.html#X813A10398218E9EE\">HeLP_PQ</a><br/>HeLP (not loaded): <a target=\"_blank\" href=\"https://www.gap-system.org/Manuals/pkg/HeLP-3.5/doc/chap3.html#X7F8F6E3D80A23C1D\">HeLP_WithGivenOrder</a><br/>HeLP (not loaded): <a target=\"_blank\" href=\"https://www.gap-system.org/Manuals/pkg/HeLP-3.5/doc/chap3.html#X7CD0CEF283F13F7B\">HeLP_WithGivenOrderAndPA</a><br/>HeLP (not loaded): <a target=\"_blank\" href=\"https://www.gap-system.org/Manuals/pkg/HeLP-3.5/doc/chap3.html#X8186F17681AF25F5\">HeLP_WithGivenOrderAllTables</a><br/>HeLP (not loaded): <a target=\"_blank\" href=\"https://www.gap-system.org/Manuals/pkg/HeLP-3.5/doc/chap3.html#X81063633815E39CE\">HeLP_WithGivenOrderAndPAAllTables</a><br/>HeLP (not loaded): <a target=\"_blank\" href=\"https://www.gap-system.org/Manuals/pkg/HeLP-3.5/doc/chap2.html#X81AF79A587054306\">HeLP_ZC</a><br/>HeLP (not loaded): <a target=\"_blank\" href=\"https://www.gap-system.org/Manuals/pkg/HeLP-3.5/doc/chap3.html#X7CAC647C7D1E95B0\">HeLP_WithGivenOrderSConstant</a><br/>HeLP (not loaded): <a target=\"_blank\" href=\"https://www.gap-system.org/Manuals/pkg/HeLP-3.5/doc/chap3.html#X7B0FD19084B09AF8\">HeLP_AddGaloisCharacterSums</a><br/>HeLP (not loaded): <a target=\"_blank\" href=\"https://www.gap-system.org/Manuals/pkg/HeLP-3.5/doc/chap3.html#X8727639883F787C5\">HeLP_AllOrders</a><br/>HeLP (not loaded): <a target=\"_blank\" href=\"https://www.gap-system.org/Manuals/pkg/HeLP-3.5/doc/chap3.html#X7C00E1567BFF1757\">HeLP_AllOrdersPQ</a><br/>HeLP (not loaded): <a target=\"_blank\" href=\"https://www.gap-system.org/Manuals/pkg/HeLP-3.5/doc/chap3.html#X7BB9009482784E90\">HeLP_ChangeCharKeepSols</a><br/>HeLP (not loaded): <a target=\"_blank\" href=\"https://www.gap-system.org/Manuals/pkg/HeLP-3.5/doc/chap3.html#X7C19F3A378AAF294\">HeLP_Reset</a><br/>HeLP (not loaded): <a target=\"_blank\" href=\"https://www.gap-system.org/Manuals/pkg/HeLP-3.5/doc/chap3.html#X7B2326C5813CF36B\">HeLP_Solver</a><br/>HeLP (not loaded): <a target=\"_blank\" href=\"https://www.gap-system.org/Manuals/pkg/HeLP-3.5/doc/chap3.html#X7A7536D9790C1901\">HeLP_UseRedund</a><br/>HeLP (not loaded): <a target=\"_blank\" href=\"https://www.gap-system.org/Manuals/pkg/HeLP-3.5/doc/chap3.html#X7F6C4FAD805CD7FC\">HeLP_Change4ti2Precision</a><br/>HeLP (not loaded): <a target=\"_blank\" href=\"https://www.gap-system.org/Manuals/pkg/HeLP-3.5/doc/chap3.html#X8490447A857CFD87\">HeLP_Vertices</a><br/>HeLP (not loaded): <a target=\"_blank\" href=\"https://www.gap-system.org/Manuals/pkg/HeLP-3.5/doc/chap3.html#X7DAA7EF785621D9E\">HeLP_VerifySolution</a><br/>HeLP (not loaded): <a target=\"_blank\" href=\"https://www.gap-system.org/Manuals/pkg/HeLP-3.5/doc/chap3.html#X8452B7F58641E7F5\">HeLP_FindAndVerifySolution</a><br/>HeLP (not loaded): <a target=\"_blank\" href=\"https://www.gap-system.org/Manuals/pkg/HeLP-3.5/doc/chap3.html#X7C4C37B681A5BC7D\">HeLP_CharacterValue</a><br/>HeLP (not loaded): <a target=\"_blank\" href=\"https://www.gap-system.org/Manuals/pkg/HeLP-3.5/doc/chap3.html#X7E37E3767B7085B9\">HeLP_WriteTrivialSolution</a><br/>HeLP (not loaded): <a target=\"_blank\" href=\"https://www.gap-system.org/Manuals/pkg/HeLP-3.5/doc/chap3.html#X79349D80830FA89B\">HeLP_WagnerTest</a><br/>HeLP (not loaded): <a target=\"_blank\" href=\"https://www.gap-system.org/Manuals/pkg/HeLP-3.5/doc/chap3.html#X80E976FE781AC904\">HeLP_AutomorphismOrbits</a><br/>HeLP (not loaded): <a target=\"_blank\" href=\"https://www.gap-system.org/Manuals/pkg/HeLP-3.5/doc/chap3.html#X7A5CAEBD801EF192\">HeLP_PrintSolution</a><br/>HeLP (not loaded): <a target=\"_blank\" href=\"https://www.gap-system.org/Manuals/pkg/HeLP-3.5/doc/chap3.html#X86601BE281C7B8B6\">HeLP_MultiplicitiesOfEigenvalues</a><br/>HeLP (not loaded): <a target=\"_blank\" href=\"https://www.gap-system.org/Manuals/pkg/HeLP-3.5/doc/chap3.html#X81E4BAF2815051C4\">HeLP_PossiblePartialAugmentationsOfPowers</a><br/>HeLP (not loaded): <a target=\"_blank\" href=\"https://www.gap-system.org/Manuals/pkg/HeLP-3.5/doc/chap3.html#X80E52D94801193C4\">HeLP_IsZCKnown</a><br/>"
      ]
     },
     "execution_count": 5,
     "metadata": {},
     "output_type": "execute_result"
    }
   ],
   "source": [
    "?help"
   ]
  },
  {
   "cell_type": "markdown",
   "id": "703d61a8",
   "metadata": {},
   "source": [
    "If there is only one index entry for the topic then this is displayed directly. For topics with several matches, output like the above is shown as an overview. GAP's documentation is also split into several books, and a query can be restricted to a single book:"
   ]
  },
  {
   "cell_type": "code",
   "execution_count": 6,
   "id": "d54cf0ad",
   "metadata": {},
   "outputs": [
    {
     "data": {
      "text/html": [
       "Tutorial: <a target=\"_blank\" href=\"https://www.gap-system.org/Manuals/doc/tut/chap3.html#X83BE0C20875DD285\">Sets</a>"
      ]
     },
     "execution_count": 6,
     "metadata": {},
     "output_type": "execute_result"
    }
   ],
   "source": [
    "?tut : sets"
   ]
  },
  {
   "cell_type": "markdown",
   "id": "001ea795",
   "metadata": {},
   "source": [
    "Substrings logic can also be applied, through appending another question mark to the start of the command. These queries will return all help sections in a book whose index entries contain the substring specified:"
   ]
  },
  {
   "cell_type": "code",
   "execution_count": 7,
   "id": "3646b330",
   "metadata": {},
   "outputs": [
    {
     "data": {
      "text/html": [
       "Tutorial: <a target=\"_blank\" href=\"https://www.gap-system.org/Manuals/doc/tut/chap3.html#X83BE0C20875DD285\">Sets</a><br/>Reference: <a target=\"_blank\" href=\"https://www.gap-system.org/Manuals/doc/ref/chap12.html#X83BE0C20875DD285\">Sets</a><br/>Reference: <a target=\"_blank\" href=\"https://www.gap-system.org/Manuals/doc/ref/chap21.html#X7B256AE5780F140A\">Sets</a><br/>Reference: <a target=\"_blank\" href=\"https://www.gap-system.org/Manuals/doc/ref/chap21.html#X80ABC25582343910\">sets</a><br/>Tutorial: <a target=\"_blank\" href=\"https://www.gap-system.org/Manuals/doc/tut/chap7.html#X7D94C6F07ACEA397\">Domains as Sets</a><br/>Reference: <a target=\"_blank\" href=\"https://www.gap-system.org/Manuals/doc/ref/chap21.html#X80ABC25582343910\">Sorted Lists and Sets</a><br/>Reference: <a target=\"_blank\" href=\"https://www.gap-system.org/Manuals/doc/ref/chap22.html#X7CC745317FE54C14\">Boolean Lists Representing Subsets</a><br/>Reference: <a target=\"_blank\" href=\"https://www.gap-system.org/Manuals/doc/ref/chap39.html#X81002AA87DDBC02F\">Cosets</a><br/>Reference: <a target=\"_blank\" href=\"https://www.gap-system.org/Manuals/doc/ref/chap39.html#X78B98B257E981046\">Double Cosets</a><br/>Reference: <a target=\"_blank\" href=\"https://www.gap-system.org/Manuals/doc/ref/chap39.html#X7D8EFB2F85AA24EE\">Sets of Subgroups</a><br/>Reference: <a target=\"_blank\" href=\"https://www.gap-system.org/Manuals/doc/ref/chap39.html#X79F894537D526B61\">Special Generating Sets</a><br/>Reference: <a target=\"_blank\" href=\"https://www.gap-system.org/Manuals/doc/ref/chap41.html#X7FD3D2D2788709B7\">External Sets</a><br/>Reference: <a target=\"_blank\" href=\"https://www.gap-system.org/Manuals/doc/ref/chap73.html#X80980FF37F0D521B\">Orbits on Sets of Possible Power Maps</a><br/>Reference: <a target=\"_blank\" href=\"https://www.gap-system.org/Manuals/doc/ref/chap73.html#X7C34060278E4BFC4\">Orbits on Sets of Possible Class Fusions</a><br/>Reference: <a target=\"_blank\" href=\"https://www.gap-system.org/Manuals/doc/ref/chap87.html#X84A94914876C03F0\">Enumerators for cosets of characteristic factors</a><br/>Reference: <a target=\"_blank\" href=\"https://www.gap-system.org/Manuals/doc/ref/chap16.html#X8770F16D794C0ADB\">subsets</a><br/>Reference: <a target=\"_blank\" href=\"https://www.gap-system.org/Manuals/doc/ref/chap21.html#X80ABC25582343910\">multisets</a><br/>Reference: <a target=\"_blank\" href=\"https://www.gap-system.org/Manuals/doc/ref/chap21.html#X79B940567A849216\">IsSubsetSet</a><br/>Reference: <a target=\"_blank\" href=\"https://www.gap-system.org/Manuals/doc/ref/chap21.html#X7B3469CD7EFC1A87\">union of sets</a><br/>Reference: <a target=\"_blank\" href=\"https://www.gap-system.org/Manuals/doc/ref/chap21.html#X8473AA657FEC3D4D\">intersection of sets</a><br/>Reference: <a target=\"_blank\" href=\"https://www.gap-system.org/Manuals/doc/ref/chap39.html#X81002AA87DDBC02F\">right cosets</a><br/>Reference: <a target=\"_blank\" href=\"https://www.gap-system.org/Manuals/doc/ref/chap39.html#X835F48248571364F\">RightCosets</a><br/>Reference: <a target=\"_blank\" href=\"https://www.gap-system.org/Manuals/doc/ref/chap39.html#X835F48248571364F\">RightCosetsNC</a><br/>Reference: <a target=\"_blank\" href=\"https://www.gap-system.org/Manuals/doc/ref/chap39.html#X7D7625A1861D9DAB\">left cosets</a><br/>Reference: <a target=\"_blank\" href=\"https://www.gap-system.org/Manuals/doc/ref/chap39.html#X7F53DABD79BA4F72\">RepresentativesContainedRightCosets</a><br/>Reference: <a target=\"_blank\" href=\"https://www.gap-system.org/Manuals/doc/ref/chap39.html#X7A5EFABB86E6D4D5\">DoubleCosets</a><br/>Reference: <a target=\"_blank\" href=\"https://www.gap-system.org/Manuals/doc/ref/chap39.html#X7A5EFABB86E6D4D5\">DoubleCosetsNC</a><br/>Reference: <a target=\"_blank\" href=\"https://www.gap-system.org/Manuals/doc/ref/chap41.html#X85AA04347CD117F9\">OnSets</a><br/>Reference: <a target=\"_blank\" href=\"https://www.gap-system.org/Manuals/doc/ref/chap41.html#X85AA04347CD117F9\">action on sets</a><br/>Reference: <a target=\"_blank\" href=\"https://www.gap-system.org/Manuals/doc/ref/chap41.html#X7C10492081D72376\">OnSetsSets</a><br/>Reference: <a target=\"_blank\" href=\"https://www.gap-system.org/Manuals/doc/ref/chap41.html#X7E23686E7A9D3A20\">OnSetsDisjointSets</a><br/>Reference: <a target=\"_blank\" href=\"https://www.gap-system.org/Manuals/doc/ref/chap41.html#X7ADE244E819035FF\">OnSetsTuples</a><br/>Reference: <a target=\"_blank\" href=\"https://www.gap-system.org/Manuals/doc/ref/chap41.html#X7FF556CD7E6739A9\">OnTuplesSets</a><br/>Reference: <a target=\"_blank\" href=\"https://www.gap-system.org/Manuals/doc/ref/chap41.html#X7FD3D2D2788709B7\">G-sets</a><br/>Reference: <a target=\"_blank\" href=\"https://www.gap-system.org/Manuals/doc/ref/chap43.html#X7B870C217D0B9997\">MinimalElementCosetStabChain</a><br/>Reference: <a target=\"_blank\" href=\"https://www.gap-system.org/Manuals/doc/ref/chap85.html#X7CD4A0867BD825F7\">G-sets computing orbits</a><br/>Reference: <a target=\"_blank\" href=\"https://www.gap-system.org/Manuals/doc/ref/chap85.html#X7CD4A0867BD825F7\">Orbits as attributes for external sets</a><br/>ACE (not loaded): <a target=\"_blank\" href=\"https://www.gap-system.org/Manuals/pkg/ace-5.3/htm/CHAP001.htm#SECT003\">activecosets</a><br/>ACE (not loaded): <a target=\"_blank\" href=\"https://www.gap-system.org/Manuals/pkg/ace-5.3/htm/CHAP001.htm#SECT003\">maxcosets</a><br/>ACE (not loaded): <a target=\"_blank\" href=\"https://www.gap-system.org/Manuals/pkg/ace-5.3/htm/CHAP001.htm#SECT003\">totcosets</a><br/>ACE (not loaded): <a target=\"_blank\" href=\"https://www.gap-system.org/Manuals/pkg/ace-5.3/htm/CHAP003.htm\">cosets!coset numbers</a><br/>ACE (not loaded): <a target=\"_blank\" href=\"https://www.gap-system.org/Manuals/pkg/ace-5.3/htm/CHAP003.htm\">cosets!coset table</a><br/>ACE (not loaded): <a target=\"_blank\" href=\"https://www.gap-system.org/Manuals/pkg/ace-5.3/htm/CHAP003.htm\">cosets</a><br/>ACE (not loaded): <a target=\"_blank\" href=\"https://www.gap-system.org/Manuals/pkg/ace-5.3/htm/CHAP003.htm\">cosets!coset application</a><br/>ACE (not loaded): <a target=\"_blank\" href=\"https://www.gap-system.org/Manuals/pkg/ace-5.3/htm/CHAP003.htm\">cosets!coset numbers</a><br/>ACE (not loaded): <a target=\"_blank\" href=\"https://www.gap-system.org/Manuals/pkg/ace-5.3/htm/CHAP003.htm#SECT005\">activecosets</a><br/>ACE (not loaded): <a target=\"_blank\" href=\"https://www.gap-system.org/Manuals/pkg/ace-5.3/htm/CHAP003.htm#SECT005\">maxcosets</a><br/>ACE (not loaded): <a target=\"_blank\" href=\"https://www.gap-system.org/Manuals/pkg/ace-5.3/htm/CHAP003.htm#SECT005\">totcosets</a><br/>ACE (not loaded): <a target=\"_blank\" href=\"https://www.gap-system.org/Manuals/pkg/ace-5.3/htm/CHAP006.htm#SECT005\">ACECosetsThatNormaliseSubgroup</a><br/>agt (not loaded): <a target=\"_blank\" href=\"https://www.gap-system.org/Manuals/pkg/AGT-0.2/doc/chap4.html#X7A9F9FFF818BF0D9\">Regular sets</a><br/>agt (not loaded): <a target=\"_blank\" href=\"https://www.gap-system.org/Manuals/pkg/AGT-0.2/doc/chap4.html#X7EB5DA8E7910EF87\">RegularSetSRGParameters</a><br/>Alnuth: <a target=\"_blank\" href=\"https://www.gap-system.org/Manuals/pkg/alnuth-3.1.2/htm/CHAP002.htm#SECT002\">NormCosetsOfNumberField</a><br/>CRISP: <a target=\"_blank\" href=\"https://www.gap-system.org/Manuals/pkg/crisp-1.4.5/htm/CHAP005.htm#SECT003\">Creating Fitting sets</a><br/>CRISP: <a target=\"_blank\" href=\"https://www.gap-system.org/Manuals/pkg/crisp-1.4.5/htm/CHAP005.htm#SECT004\">Attributes and operations for Fitting classes and Fitting sets</a><br/>CRISP: <a target=\"_blank\" href=\"https://www.gap-system.org/Manuals/pkg/crisp-1.4.5/htm/CHAP006.htm#SECT003\">Pre-defined sets of primes</a><br/>CRISP: <a target=\"_blank\" href=\"https://www.gap-system.org/Manuals/pkg/crisp-1.4.5/htm/CHAP005.htm\">Fitting classes and Fitting sets</a><br/>CRISP: <a target=\"_blank\" href=\"https://www.gap-system.org/Manuals/pkg/crisp-1.4.5/htm/CHAP005.htm#SECT003\">Fitting sets!creating</a><br/>CRISP: <a target=\"_blank\" href=\"https://www.gap-system.org/Manuals/pkg/crisp-1.4.5/htm/CHAP005.htm#SECT004\">attributes!of Fitting sets</a><br/>CRISP: <a target=\"_blank\" href=\"https://www.gap-system.org/Manuals/pkg/crisp-1.4.5/htm/CHAP005.htm#SECT004\">operations!for Fitting sets</a><br/>CRISP: <a target=\"_blank\" href=\"https://www.gap-system.org/Manuals/pkg/crisp-1.4.5/htm/CHAP005.htm#SECT004\">Fitting sets!operations for</a><br/>CRISP: <a target=\"_blank\" href=\"https://www.gap-system.org/Manuals/pkg/crisp-1.4.5/htm/CHAP005.htm#SECT004\">Fitting sets!attributes of</a><br/>CRISP: <a target=\"_blank\" href=\"https://www.gap-system.org/Manuals/pkg/crisp-1.4.5/htm/CHAP005.htm#SECT003\">Intersection!of Fitting sets</a><br/>CTblLibXpls: <a target=\"_blank\" href=\"https://www.gap-system.org/Manuals/pkg/ctbllib-1.3.1/doc2/chap8.html#X81A5FC968782CFC3\">The Action of U_6(2) on the Cosets of M_22</a><br/>CTblLibXpls: <a target=\"_blank\" href=\"https://www.gap-system.org/Manuals/pkg/ctbllib-1.3.1/doc2/chap8.html#X792D2C2380591D8D\">The Action of O_7(3).2 on the Cosets of 2^7.S_7</a><br/>CTblLibXpls: <a target=\"_blank\" href=\"https://www.gap-system.org/Manuals/pkg/ctbllib-1.3.1/doc2/chap8.html#X875B361C8512939F\">The Action of O_8^+(3).2_1 on the Cosets of 2^7.A_8</a><br/>CTblLibXpls: <a target=\"_blank\" href=\"https://www.gap-system.org/Manuals/pkg/ctbllib-1.3.1/doc2/chap8.html#X7B1DFAF98182CFF4\">The Action of S_4(4).4 on the Cosets of 5^2.[2^5]</a><br/>CTblLibXpls: <a target=\"_blank\" href=\"https://www.gap-system.org/Manuals/pkg/ctbllib-1.3.1/doc2/chap8.html#X7F04F0C684AA8B30\">The Action of Co_1 on the Cosets of Involution Centralizers</a><br/>datastructures (not loaded): <a target=\"_blank\" href=\"https://www.gap-system.org/Manuals/pkg/datastructures-0.2.5/doc/chap8.html#X80589F287F1620B2\">Hashsets</a><br/>DifSets (not loaded): <a target=\"_blank\" href=\"https://www.gap-system.org/Manuals/pkg/difsets-2.3.1/doc/chap1.html#X8248A9AB7E689C64\">Difference Sets</a><br/>DifSets (not loaded): <a target=\"_blank\" href=\"https://www.gap-system.org/Manuals/pkg/difsets-2.3.1/doc/chap2.html#X83297D2B85F9E074\">DifferenceSets</a><br/>DifSets (not loaded): <a target=\"_blank\" href=\"https://www.gap-system.org/Manuals/pkg/difsets-2.3.1/doc/chap2.html#X7DEB0B3B7E1FFF0B\">PossibleDifferenceSetSizes</a><br/>DifSets (not loaded): <a target=\"_blank\" href=\"https://www.gap-system.org/Manuals/pkg/difsets-2.3.1/doc/chap2.html#X7E7D360080D99FE7\">DifferenceSetsOfSizeK</a><br/>DifSets (not loaded): <a target=\"_blank\" href=\"https://www.gap-system.org/Manuals/pkg/difsets-2.3.1/doc/chap2.html#X78CDE421817B50EE\">AllRefinedDifferenceSets</a><br/>DifSets (not loaded): <a target=\"_blank\" href=\"https://www.gap-system.org/Manuals/pkg/difsets-2.3.1/doc/chap2.html#X8527B7D687C04A1C\">NrAllRefinedSets</a><br/>DifSets (not loaded): <a target=\"_blank\" href=\"https://www.gap-system.org/Manuals/pkg/difsets-2.3.1/doc/chap2.html#X7E1012C07FB328B4\">SomeRefinedDifferenceSets</a><br/>DifSets (not loaded): <a target=\"_blank\" href=\"https://www.gap-system.org/Manuals/pkg/difsets-2.3.1/doc/chap2.html#X7ADBC8A6825A1FE4\">NrSomeRefinedSets</a><br/>DifSets (not loaded): <a target=\"_blank\" href=\"https://www.gap-system.org/Manuals/pkg/difsets-2.3.1/doc/chap2.html#X7E4BCB8482E4AE34\">EquivalentFreeListOfDifferenceSets</a><br/>DifSets (not loaded): <a target=\"_blank\" href=\"https://www.gap-system.org/Manuals/pkg/difsets-2.3.1/doc/chap2.html#X8380F5D37E2D411B\">TranslateFreeListOfDifferenceSets</a><br/>DifSets (not loaded): <a target=\"_blank\" href=\"https://www.gap-system.org/Manuals/pkg/difsets-2.3.1/doc/chap2.html#X8741BBF4811F942A\">SmallestEquivalentFreeListOfDifferenceSets</a><br/>DifSets (not loaded): <a target=\"_blank\" href=\"https://www.gap-system.org/Manuals/pkg/difsets-2.3.1/doc/chap2.html#X7B41B3107A96949D\">CanLoadDifferenceSets</a><br/>DifSets (not loaded): <a target=\"_blank\" href=\"https://www.gap-system.org/Manuals/pkg/difsets-2.3.1/doc/chap2.html#X848925877C3C891F\">LoadDifferenceSets</a><br/>Digraphs (not loaded): <a target=\"_blank\" href=\"https://www.gap-system.org/Manuals/pkg/digraphs-1.3.1/doc/chap8.html#X7A7E0B957932DF44\">Finding cliques and independent sets</a><br/>Digraphs (not loaded): <a target=\"_blank\" href=\"https://www.gap-system.org/Manuals/pkg/digraphs-1.3.1/doc/chap8.html#X7E31253287708348\">Finding independent sets</a><br/>Digraphs (not loaded): <a target=\"_blank\" href=\"https://www.gap-system.org/Manuals/pkg/digraphs-1.3.1/doc/chapA.html#X7C74978D85F7AF5C\">Some special vertex subsets of a graph</a><br/>Digraphs (not loaded): <a target=\"_blank\" href=\"https://www.gap-system.org/Manuals/pkg/digraphs-1.3.1/doc/chap8.html#X7D2C78EB81A798A9\">DigraphMaximalIndependentSets</a><br/>Digraphs (not loaded): <a target=\"_blank\" href=\"https://www.gap-system.org/Manuals/pkg/digraphs-1.3.1/doc/chap8.html#X7D2C78EB81A798A9\">DigraphMaximalIndependentSetsReps</a><br/>Digraphs (not loaded): <a target=\"_blank\" href=\"https://www.gap-system.org/Manuals/pkg/digraphs-1.3.1/doc/chap8.html#X7D2C78EB81A798A9\">DigraphIndependentSets</a><br/>Digraphs (not loaded): <a target=\"_blank\" href=\"https://www.gap-system.org/Manuals/pkg/digraphs-1.3.1/doc/chap8.html#X7D2C78EB81A798A9\">DigraphIndependentSetsReps</a><br/>Digraphs (not loaded): <a target=\"_blank\" href=\"https://www.gap-system.org/Manuals/pkg/digraphs-1.3.1/doc/chap8.html#X7D2C78EB81A798A9\">DigraphMaximalIndependentSetsAttr</a><br/>Digraphs (not loaded): <a target=\"_blank\" href=\"https://www.gap-system.org/Manuals/pkg/digraphs-1.3.1/doc/chap8.html#X7D2C78EB81A798A9\">DigraphMaximalIndependentSetsRepsAttr</a><br/>FinInG (not loaded): <a target=\"_blank\" href=\"https://www.gap-system.org/Manuals/pkg/fining/doc/chap12.html#X7FAE48497B2F658A\">BLT-sets, flocks, q-clans, and elation generalised quadrangles</a><br/>FinInG (not loaded): <a target=\"_blank\" href=\"https://www.gap-system.org/Manuals/pkg/fining/doc/chap8.html#X86A646FF8668D82E\">OnSetsProjSubspaces</a><br/>Francy (not loaded): <a target=\"_blank\" href=\"https://www.gap-system.org/Manuals/pkg/francy-1.2.4/doc/chap4.html#X7F755201834DB9A6\">SetShowLegend for ischart, isbool</a><br/>Francy (not loaded): <a target=\"_blank\" href=\"https://www.gap-system.org/Manuals/pkg/francy-1.2.4/doc/chap6.html#X7F2308F18216D0DF\">SetSize for isshape, isposint</a><br/>Francy (not loaded): <a target=\"_blank\" href=\"https://www.gap-system.org/Manuals/pkg/francy-1.2.4/doc/chap6.html#X7A3901B97FAB1DC5\">SetSimulation for isfrancygraph, isbool</a><br/>Francy (not loaded): <a target=\"_blank\" href=\"https://www.gap-system.org/Manuals/pkg/francy-1.2.4/doc/chap6.html#X7FDA75868647E405\">SetSelected for isshape, isbool</a><br/>genss: <a target=\"_blank\" href=\"https://www.gap-system.org/Manuals/pkg/genss-1.6.6/doc/chap3.html#X8639DF037FAB2E96\">SetStabilizerChain</a><br/>GRAPE (not loaded): <a target=\"_blank\" href=\"https://www.gap-system.org/Manuals/pkg/grape-4.8.3/htm/CHAP005.htm\">Some special vertex subsets of a graph</a><br/>groupoids (not loaded): <a target=\"_blank\" href=\"https://www.gap-system.org/Manuals/pkg/groupoids-1.68/doc/chap4.html#X7F23BE3F85C9BA06\">Groupoid elements; stars; costars; homsets</a><br/>groupoids (not loaded): <a target=\"_blank\" href=\"https://www.gap-system.org/Manuals/pkg/groupoids-1.68/doc/chap4.html#X831AA9E8780235F2\">Left, right and double cosets</a><br/>GUAVA (not loaded): <a target=\"_blank\" href=\"https://www.gap-system.org/Manuals/pkg/guava-3.15/doc/chap3.html#X86DC36217EC11723\">codewords, cosets</a><br/>GUAVA (not loaded): <a target=\"_blank\" href=\"https://www.gap-system.org/Manuals/pkg/guava-3.15/doc/chap7.html#X7AEA9F807E6FFEFF\">CyclotomicCosets</a><br/>HAPcryst (not loaded): <a target=\"_blank\" href=\"https://www.gap-system.org/Manuals/pkg/hapcryst-0.1.13/doc/chap3.html#X82BD20307A67C119\">OrbitStabilizerInUnitCubeOnRightOnSets</a><br/>HAPcryst (not loaded): <a target=\"_blank\" href=\"https://www.gap-system.org/Manuals/pkg/hapcryst-0.1.13/doc/chap3.html#X82CCCD597C86A08A\">OrbitPartInVertexSetsStandardSpaceGroup</a><br/>HAPcryst (not loaded): <a target=\"_blank\" href=\"https://www.gap-system.org/Manuals/pkg/hapcryst-0.1.13/doc/chap3.html#X81DE08687F0DBCC6\">StabilizerOnSetsStandardSpaceGroup</a><br/>HAPcryst (not loaded): <a target=\"_blank\" href=\"https://www.gap-system.org/Manuals/pkg/hapcryst-0.1.13/doc/chap3.html#X83C6448679A54F9D\">RepresentativeActionOnRightOnSets</a><br/>IntPic (not loaded): <a target=\"_blank\" href=\"https://www.gap-system.org/Manuals/pkg/IntPic-0.2.4/doc/chap6.html#X7BF14BF082E52625\">Drawing sets of numerical semigroups</a><br/>IO: <a target=\"_blank\" href=\"https://www.gap-system.org/Manuals/pkg/io-4.7.0/doc/chap3.html#X7BE641C1784D0899\">IO_setsockopt</a><br/>ITC (not loaded): <a target=\"_blank\" href=\"https://www.gap-system.org/Manuals/pkg/itc-1.5/htm/CHAP005.htm#SECT002\">mark cosets</a><br/>Kan (not loaded): <a target=\"_blank\" href=\"https://www.gap-system.org/Manuals/pkg/kan-1.32/doc/chap3.html#X852CC057809CE3EE\">DoubleCosetsAutomaton</a><br/>Kan (not loaded): <a target=\"_blank\" href=\"https://www.gap-system.org/Manuals/pkg/kan-1.32/doc/chap3.html#X852CC057809CE3EE\">RightCosetsAutomaton</a><br/>kbmag (not loaded): <a target=\"_blank\" href=\"https://www.gap-system.org/Manuals/pkg/kbmag-1.5.9/doc/chap3.html#X7828AE2881251C6A\">The Knuth-Bendix program on cosets</a><br/>kbmag (not loaded): <a target=\"_blank\" href=\"https://www.gap-system.org/Manuals/pkg/kbmag-1.5.9/doc/chap3.html#X8128360785343F6A\">Subgroups, cosets and subgroup presentations</a><br/>kbmag (not loaded): <a target=\"_blank\" href=\"https://www.gap-system.org/Manuals/pkg/kbmag-1.5.9/doc/chap3.html#X7828AE2881251C6A\">The Knuth-Bendix program on cosets</a><br/>kbmag (not loaded): <a target=\"_blank\" href=\"https://www.gap-system.org/Manuals/pkg/kbmag-1.5.9/doc/chap3.html#X83CE52E17BB34E5F\">The automatic cosets program</a><br/>kbmag (not loaded): <a target=\"_blank\" href=\"https://www.gap-system.org/Manuals/pkg/kbmag-1.5.9/doc/chap3.html#X83A702237F6BA69A\">Word reduction on cosets</a><br/>kbmag (not loaded): <a target=\"_blank\" href=\"https://www.gap-system.org/Manuals/pkg/kbmag-1.5.9/doc/chap3.html#X827BF1CF85337C8B\">Counting and enumerating irreducible words for cosets</a><br/>kbmag (not loaded): <a target=\"_blank\" href=\"https://www.gap-system.org/Manuals/pkg/kbmag-1.5.9/doc/chap3.html#X79BA526D818D1DE7\">Examples of the use of Rewriting System on Cosets</a><br/>kbmag (not loaded): <a target=\"_blank\" href=\"https://www.gap-system.org/Manuals/pkg/kbmag-1.5.9/doc/chap3.html#X7CDC9FDA855596C4\">ResetRewritingSystemOnCosets</a><br/>kbmag (not loaded): <a target=\"_blank\" href=\"https://www.gap-system.org/Manuals/pkg/kbmag-1.5.9/doc/chap3.html#X7828AE2881251C6A\">Knuth-Bendix program on cosets</a><br/>kbmag (not loaded): <a target=\"_blank\" href=\"https://www.gap-system.org/Manuals/pkg/kbmag-1.5.9/doc/chap3.html#X822268027EF50066\">KnuthBendixOnCosets</a><br/>kbmag (not loaded): <a target=\"_blank\" href=\"https://www.gap-system.org/Manuals/pkg/kbmag-1.5.9/doc/chap3.html#X822268027EF50066\">KnuthBendixOnCosetsWithSubgroupRewritingSystem</a><br/>kbmag (not loaded): <a target=\"_blank\" href=\"https://www.gap-system.org/Manuals/pkg/kbmag-1.5.9/doc/chap3.html#X7832C01283EA446E\">IsConfluentOnCosets</a><br/>kbmag (not loaded): <a target=\"_blank\" href=\"https://www.gap-system.org/Manuals/pkg/kbmag-1.5.9/doc/chap3.html#X83CE52E17BB34E5F\">automatic cosets program</a><br/>kbmag (not loaded): <a target=\"_blank\" href=\"https://www.gap-system.org/Manuals/pkg/kbmag-1.5.9/doc/chap3.html#X7A2595DB84579665\">AutomaticStructureOnCosets</a><br/>kbmag (not loaded): <a target=\"_blank\" href=\"https://www.gap-system.org/Manuals/pkg/kbmag-1.5.9/doc/chap3.html#X7A2595DB84579665\">AutomaticStructureOnCosetsWithSubgroupPresentation</a><br/>loops (not loaded): <a target=\"_blank\" href=\"https://www.gap-system.org/Manuals/pkg/loops-3.4.1/doc/chap6.html#X835F48248571364F\">RightCosets</a><br/>NumericalSgps (not loaded): <a target=\"_blank\" href=\"https://www.gap-system.org/Manuals/pkg/NumericalSgps-1.2.2/doc/chap9.html#X7A54E9FD7D4CB18F\">Divisors, posets</a><br/>NumericalSgps (not loaded): <a target=\"_blank\" href=\"https://www.gap-system.org/Manuals/pkg/NumericalSgps-1.2.2/doc/chap9.html#X86F9D7868100F6F9\">CatenaryDegree for sets of factorizations</a><br/>NumericalSgps (not loaded): <a target=\"_blank\" href=\"https://www.gap-system.org/Manuals/pkg/NumericalSgps-1.2.2/doc/chap9.html#X80D478418403E7CB\">TameDegree for sets of factorizations</a><br/>orb: <a target=\"_blank\" href=\"https://www.gap-system.org/Manuals/pkg/orb-4.8.3/doc/chap7.html#X7F051A447E2E8573\">Finding generating sets of subgroups</a><br/>orb: <a target=\"_blank\" href=\"https://www.gap-system.org/Manuals/pkg/orb-4.8.3/doc/chap3.html#X7A08E68585088C89\">OrbitGraphAsSets</a><br/>PatternClass (not loaded): <a target=\"_blank\" href=\"https://www.gap-system.org/Manuals/pkg/PatternClass-2.4.2/doc/chap9.html#X7E9C84807FCB6408\">Regular Languages of Sets of Permutations</a><br/>polymaking (not loaded): <a target=\"_blank\" href=\"https://www.gap-system.org/Manuals/pkg/polymaking-0.8.2/doc/chap4.html#X82A7FF9983EB61E2\">ConvertPolymakeMatrixOrListOfSetsToGAP</a><br/>polymaking (not loaded): <a target=\"_blank\" href=\"https://www.gap-system.org/Manuals/pkg/polymaking-0.8.2/doc/chap4.html#X82A7FF9983EB61E2\">ConvertPolymakeMatrixOrListOfSetsToGAPPlusOne</a><br/>polymaking (not loaded): <a target=\"_blank\" href=\"https://www.gap-system.org/Manuals/pkg/polymaking-0.8.2/doc/chap4.html#X7E7886D68356F592\">ConvertPolymakeListOfSetsToGAP</a><br/>polymaking (not loaded): <a target=\"_blank\" href=\"https://www.gap-system.org/Manuals/pkg/polymaking-0.8.2/doc/chap4.html#X7E7886D68356F592\">ConvertPolymakeListOfSetsToGAPPlusOne</a><br/>QPA (not loaded): <a target=\"_blank\" href=\"https://www.gap-system.org/Manuals/pkg/qpa-version-1.31/doc/chap3.html#X79540DAB85902432\">Posets</a><br/>RDS (not loaded): <a target=\"_blank\" href=\"https://www.gap-system.org/Manuals/pkg/rds-1.7/htm/CHAP004.htm#SECT002\">How partial difference sets are represented</a><br/>RDS (not loaded): <a target=\"_blank\" href=\"https://www.gap-system.org/Manuals/pkg/rds-1.7/htm/CHAP002.htm\">AllDiffsets and OneDiffset</a><br/>RDS (not loaded): <a target=\"_blank\" href=\"https://www.gap-system.org/Manuals/pkg/rds-1.7/htm/CHAP005.htm\">Invariants for Difference Sets</a><br/>RDS (not loaded): <a target=\"_blank\" href=\"https://www.gap-system.org/Manuals/pkg/rds-1.7/htm/CHAP004.htm#SECT003\">ExtendedStartsets</a><br/>RDS (not loaded): <a target=\"_blank\" href=\"https://www.gap-system.org/Manuals/pkg/rds-1.7/htm/CHAP004.htm#SECT003\">ExtendedStartsetsNoSort</a><br/>RDS (not loaded): <a target=\"_blank\" href=\"https://www.gap-system.org/Manuals/pkg/rds-1.7/htm/CHAP004.htm#SECT004\">AllDiffsets</a><br/>RDS (not loaded): <a target=\"_blank\" href=\"https://www.gap-system.org/Manuals/pkg/rds-1.7/htm/CHAP004.htm#SECT004\">AllDiffsetsNoSort</a><br/>RDS (not loaded): <a target=\"_blank\" href=\"https://www.gap-system.org/Manuals/pkg/rds-1.7/htm/CHAP005.htm#SECT001\">CosetSignatureOfSet</a><br/>RDS (not loaded): <a target=\"_blank\" href=\"https://www.gap-system.org/Manuals/pkg/rds-1.7/htm/CHAP005.htm#SECT001\">CosetSignatures</a><br/>RDS (not loaded): <a target=\"_blank\" href=\"https://www.gap-system.org/Manuals/pkg/rds-1.7/htm/CHAP005.htm#SECT001\">ReducedStartsets</a><br/>RDS (not loaded): <a target=\"_blank\" href=\"https://www.gap-system.org/Manuals/pkg/rds-1.7/htm/CHAP005.htm#SECT003\">StartsetsInCoset</a><br/>recog: <a target=\"_blank\" href=\"https://www.gap-system.org/Manuals/pkg/recog-1.3.2/doc/chap6.html#X80564C3B86DC3740\">SnkSetswrSr</a><br/>SCO (not loaded): <a target=\"_blank\" href=\"https://www.gap-system.org/Manuals/pkg/SCO-2020.10-02/doc/chap4.html#X7B0172DD7CD92CD8\">Methods and functions for simplicial sets</a><br/>Semigroups (not loaded): <a target=\"_blank\" href=\"https://www.gap-system.org/Manuals/pkg/semigroups-3.4.0/doc/chap14.html#X7E4AA1437A6C7B40\">Generating sets</a><br/>Semigroups (not loaded): <a target=\"_blank\" href=\"https://www.gap-system.org/Manuals/pkg/semigroups-3.4.0/doc/chap16.html#X7B5D89A585F8B5EA\">RightCosetsOfInverseSemigroup</a><br/>SLA (not loaded): <a target=\"_blank\" href=\"https://www.gap-system.org/Manuals/pkg/sla-1.5.3/doc/chap5.html#X85A6B70B83A36495\">ClosedSubsets</a><br/>SONATA (not loaded): SetSymbols - no html help available. Please check other formats!<br/>SONATA (not loaded): SetSymbolsSupervised - no html help available. Please check other formats!<br/>Utils: <a target=\"_blank\" href=\"https://www.gap-system.org/Manuals/pkg/utils-0.69/doc/chap3.html#X7AE6EFC086C0EB3C\">Lists, Sets and Strings</a><br/>XGAP (not loaded): <a target=\"_blank\" href=\"https://www.gap-system.org/Manuals/pkg/xgap-4.30/htm/CHAP008.htm\">Graphic Posets</a><br/>XGAP (not loaded): <a target=\"_blank\" href=\"https://www.gap-system.org/Manuals/pkg/xgap-4.30/htm/CHAP008.htm#SECT002\">PosetShowLevels</a><br/>XGAP (not loaded): <a target=\"_blank\" href=\"https://www.gap-system.org/Manuals/pkg/xgap-4.30/htm/CHAP008.htm#SECT002\">PosetShowLevelparams</a><br/>ZeroMQInterface: <a target=\"_blank\" href=\"https://www.gap-system.org/Manuals/pkg/ZeroMQInterface-0.12/doc/chap2.html#X8384175A83EE3F04\">ZmqSetSendCapacity</a><br/>ZeroMQInterface: <a target=\"_blank\" href=\"https://www.gap-system.org/Manuals/pkg/ZeroMQInterface-0.12/doc/chap2.html#X808243357C0466C5\">ZmqSetSendBufferSize</a><br/>"
      ]
     },
     "execution_count": 7,
     "metadata": {},
     "output_type": "execute_result"
    }
   ],
   "source": [
    "??sets"
   ]
  }
 ],
 "metadata": {
  "kernelspec": {
   "display_name": "GAP 4",
   "language": "gap",
   "name": "gap-4"
  },
  "language_info": {
   "codemirror_mode": "gap",
   "file_extension": ".g",
   "mimetype": "text/x-gap",
   "name": "GAP 4",
   "nbconvert_exporter": "",
   "pygments_lexer": "gap",
   "version": "4.11.1"
  }
 },
 "nbformat": 4,
 "nbformat_minor": 5
}
